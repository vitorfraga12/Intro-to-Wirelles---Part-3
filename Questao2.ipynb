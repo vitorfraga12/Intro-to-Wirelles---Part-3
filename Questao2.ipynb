{
 "cells": [
  {
   "cell_type": "code",
   "execution_count": 86,
   "metadata": {},
   "outputs": [],
   "source": [
    "import numpy as np\n",
    "import matplotlib.pyplot as plt\n",
    "np.random.seed(25)"
   ]
  },
  {
   "cell_type": "code",
   "execution_count": 87,
   "metadata": {},
   "outputs": [],
   "source": [
    "#Função que transforma Linear para dB\n",
    "def lin2db(x):\n",
    "    return 10 * np.log10(x)\n",
    "\n",
    "#Função que transforma dB para Linear\n",
    "def db2lin(x):\n",
    "    return 10 ** (x / 10)"
   ]
  },
  {
   "cell_type": "code",
   "execution_count": 88,
   "metadata": {},
   "outputs": [],
   "source": [
    "# Função que gera as coordenadas dos APs\n",
    "def distribuir_APs(num_aps):\n",
    "    '''Distributes Access Points (APs) evenly within a square area.\n",
    "    \n",
    "    Parameters:\n",
    "    num_aps (int): The number of APs to distribute. Must be a perfect square.\n",
    "    \n",
    "    Returns:\n",
    "    np.array: An array of coordinates for the APs, or None if num_aps is not a perfect square.'''\n",
    "    \n",
    "    if num_aps not in [1, 4, 9, 16, 25, 36, 49, 64, 100]:\n",
    "        return None\n",
    "\n",
    "    tamanho_quadrado = 1000\n",
    "    lado_quadrado = int(np.sqrt(num_aps))\n",
    "\n",
    "    tamanho_celula = tamanho_quadrado // lado_quadrado\n",
    "\n",
    "    # Criar coordenadas usando meshgrid\n",
    "    x, y = np.meshgrid(np.arange(0.5 * tamanho_celula, tamanho_quadrado, tamanho_celula),\n",
    "                      np.arange(0.5 * tamanho_celula, tamanho_quadrado, tamanho_celula))\n",
    "\n",
    "    coordenadas_APs = np.column_stack((x.ravel(), y.ravel()))\n",
    "\n",
    "    return coordenadas_APs"
   ]
  },
  {
   "cell_type": "code",
   "execution_count": 89,
   "metadata": {},
   "outputs": [],
   "source": [
    "# Função que gera a distância entre a UE e a AP\n",
    "def dAPUE(x_coord, y_coord, ap_coord):\n",
    "  '''Calculate the Euclidean distance between a user equipment (UE) and an access point (AP).\n",
    "    \n",
    "    Parameters:\n",
    "    ue_coords (tuple): A tuple (x_coord, y_coord) representing the coordinates of the UE.\n",
    "    ap_coords (np.array): An array containing the coordinates of the APs.\n",
    "    \n",
    "    Returns:\n",
    "    float: The Euclidean distance between the UE and the AP.\n",
    "  '''\n",
    "  dAPUE = np.linalg.norm(np.array([x_coord, y_coord]) - ap_coord)\n",
    "  return dAPUE"
   ]
  },
  {
   "cell_type": "code",
   "execution_count": 90,
   "metadata": {},
   "outputs": [],
   "source": [
    "def canal_UE(ue, channel):\n",
    "    UE = np.zeros(ue)\n",
    "\n",
    "    if ue == channel:\n",
    "        # Quando o número de canal é igual ao número de UE\n",
    "        for i in range(channel):\n",
    "            UE[i] = i\n",
    "    elif ue < channel:\n",
    "        # Quando eu tenho mais canal do que UE\n",
    "        for i in range(ue):\n",
    "            UE[i] = i\n",
    "    else:\n",
    "        # Quando eu tenho mais UE do que canal\n",
    "        for i in range(ue):\n",
    "            if i < channel:\n",
    "                UE[i] = i\n",
    "            else:\n",
    "                UE[i] = np.random.randint(0, channel)\n",
    "                \n",
    "\n",
    "    return UE"
   ]
  },
  {
   "cell_type": "code",
   "execution_count": 91,
   "metadata": {},
   "outputs": [],
   "source": [
    "#Função que define o shadowing para cada usuário\n",
    "def find_shadowing(sigma):\n",
    "    '''Generate a shadowing value for a user.\n",
    "\n",
    "    Parameters:\n",
    "    sigma (float): The standard deviation of the shadowing values.\n",
    "\n",
    "    Returns:\n",
    "    float: The shadowing value for the user.\n",
    "    '''\n",
    "\n",
    "    shadowing = np.random.lognormal(0, sigma, 1)\n",
    "\n",
    "    return shadowing "
   ]
  },
  {
   "cell_type": "code",
   "execution_count": 92,
   "metadata": {},
   "outputs": [],
   "source": [
    "def find_fastfading(standard, ue, channel, aps):\n",
    "    '''Função que calcula o fast fading para um dado usuário.\n",
    "    \n",
    "    Parâmetros:\n",
    "    standard (int): O desvio padrão da distribuição normal.\n",
    "    \n",
    "    Retorna:\n",
    "    list: O valor do fast fading para cada usuário.'''\n",
    "\n",
    "    x1 = np.random.normal(0, standard, 1)\n",
    "    x2 = np.random.normal(0, standard, 1)\n",
    "    r = np.sqrt(x1**2 + x2**2)\n",
    "    p_r = (r/(standard**2)) * np.exp(-r**2/(2*standard**2))\n",
    "\n",
    "    return p_r"
   ]
  },
  {
   "cell_type": "code",
   "execution_count": 93,
   "metadata": {},
   "outputs": [],
   "source": [
    "# Função que calcula o path gain apenas com a distância\n",
    "def find_path_gain_dist(dist):\n",
    "\n",
    "    c = 1e-4\n",
    "    n = 4\n",
    "\n",
    "    if dist >=1:\n",
    "        path_gain_result = c / (dist ** n)\n",
    "    else:\n",
    "        path_gain_result = 0\n",
    "        \n",
    "    return path_gain_result "
   ]
  },
  {
   "cell_type": "code",
   "execution_count": 94,
   "metadata": {},
   "outputs": [],
   "source": [
    "# Função que calcula o path gain com a distância e o shadowing\n",
    "def find_path_gain_shadow(dist, shadowing):\n",
    "    c = 1e-4\n",
    "    n = 4\n",
    "\n",
    "    if dist >=1:\n",
    "        path_gain_result = shadowing*(c / (dist ** n))\n",
    "    else:\n",
    "        path_gain_result = 0\n",
    "    return path_gain_result"
   ]
  },
  {
   "cell_type": "code",
   "execution_count": 95,
   "metadata": {},
   "outputs": [],
   "source": [
    "# Função que calcula o path gain com a distância, shadowing e fast fading\n",
    "def find_path_gain_fastfading(dist, shadowing, fastfading):\n",
    "    c = 1e-4\n",
    "    n = 4\n",
    "\n",
    "    if dist >=1:\n",
    "        path_gain_result = shadowing * (c / (dist ** n)) * fastfading**2\n",
    "    else:\n",
    "        path_gain_result = 0\n",
    "    \n",
    "    return path_gain_result"
   ]
  },
  {
   "cell_type": "code",
   "execution_count": 96,
   "metadata": {},
   "outputs": [],
   "source": [
    "# Função que calcula a potência recebida\n",
    "def find_pot_rec(pot_trans, pathgain):\n",
    "\n",
    "    pot_rec = pathgain * pot_trans\n",
    "\n",
    "    return pot_rec"
   ]
  },
  {
   "cell_type": "code",
   "execution_count": 97,
   "metadata": {},
   "outputs": [
    {
     "data": {
      "text/plain": [
       "' \\n    for j in range(ues):\\n        for i in range(aps):\\n            for c in range(channels):\\n                x_coord[j] = np.random.randint(0, 1000)\\n                y_coord[j] = np.random.randint(0, 1000)\\n                distance[i] = dAPUE(x_coord[j], y_coord[j], ap_coord[i])\\n                shadowing[j] = find_shadowing(sigma_shadowing)\\n                fastfading[j] = find_fastfading(sigma_fastfading)\\n\\n                # Definindo qual tipo de path gain eu irei trabalhar, sendo 0 referente somente a distância, 1 adicionando o shadowing e 2 adicionando o shasowing e o fastfading.\\n                if pathgain_index == 0:\\n                    pathgain[j] = find_path_gain_dist(distance[i])\\n\\n                elif pathgain_index == 1:\\n                    pathgain[j] = find_path_gain_shadow(distance[i], shadowing[j])\\n\\n                elif pathgain_index == 2:\\n                    pathgain[j] = find_path_gain_fastfading(distance[i], shadowing[j], fastfading[j])\\n\\n                pot_rec[j, i, c] = find_pot_rec(p_t, pathgain[j])\\n                for ch1 in range(ues):\\n                    if ue_channel[j] == ue_channel[ch1] and j != ch1:\\n                        interference = np.delete(pot_rec, ch1)\\n                        channel_interference = np.sum(interference)\\n                        sinr[j] = pot_rec[j] / (pot_noise + channel_interference)\\n'"
      ]
     },
     "execution_count": 97,
     "metadata": {},
     "output_type": "execute_result"
    }
   ],
   "source": [
    "''' \n",
    "    for j in range(ues):\n",
    "        for i in range(aps):\n",
    "            for c in range(channels):\n",
    "                x_coord[j] = np.random.randint(0, 1000)\n",
    "                y_coord[j] = np.random.randint(0, 1000)\n",
    "                distance[i] = dAPUE(x_coord[j], y_coord[j], ap_coord[i])\n",
    "                shadowing[j] = find_shadowing(sigma_shadowing)\n",
    "                fastfading[j] = find_fastfading(sigma_fastfading)\n",
    "\n",
    "                # Definindo qual tipo de path gain eu irei trabalhar, sendo 0 referente somente a distância, 1 adicionando o shadowing e 2 adicionando o shasowing e o fastfading.\n",
    "                if pathgain_index == 0:\n",
    "                    pathgain[j] = find_path_gain_dist(distance[i])\n",
    "\n",
    "                elif pathgain_index == 1:\n",
    "                    pathgain[j] = find_path_gain_shadow(distance[i], shadowing[j])\n",
    "\n",
    "                elif pathgain_index == 2:\n",
    "                    pathgain[j] = find_path_gain_fastfading(distance[i], shadowing[j], fastfading[j])\n",
    "\n",
    "                pot_rec[j, i, c] = find_pot_rec(p_t, pathgain[j])\n",
    "                for ch1 in range(ues):\n",
    "                    if ue_channel[j] == ue_channel[ch1] and j != ch1:\n",
    "                        interference = np.delete(pot_rec, ch1)\n",
    "                        channel_interference = np.sum(interference)\n",
    "                        sinr[j] = pot_rec[j] / (pot_noise + channel_interference)\n",
    "'''"
   ]
  },
  {
   "cell_type": "code",
   "execution_count": 98,
   "metadata": {},
   "outputs": [],
   "source": [
    "def calculate_sinr(banda, K_0, aps, ues, channels, sigma_shadowing, sigma_fastfading, p_t, pathgain_index):\n",
    "    '''Vamos definir os coeficientes:\n",
    "    i-th = indice da AP\n",
    "    j-th = indice da UE\n",
    "    c-th = indice do canal\n",
    "    '''\n",
    "\n",
    "    x_coord = np.zeros(ues)\n",
    "    y_coord = np.zeros(ues)\n",
    "    sinr = np.zeros(ues)\n",
    "    shadowing = np.zeros(ues)\n",
    "    fastfading = np.zeros(ues)\n",
    "    distance = np.zeros(aps)\n",
    "    pathgain = np.zeros(ues)\n",
    "    pot_rec = np.zeros((ues, aps, channels))\n",
    "    ue_channel = np.zeros(ues)\n",
    "    pot_noise = K_0*(banda/channels)\n",
    "\n",
    "    ap_coord = distribuir_APs(aps)\n",
    "\n",
    "    ue_channel = canal_UE(ues, channels)\n",
    "\n",
    "    for c in range(channels):\n",
    "        ues_on_channel = np.where(ue_channel == c)[0] # Retorna os índices dos usuários que estão no canal c\n",
    "\n",
    "        for j in ues_on_channel:\n",
    "            # Definindo a posição de cada UE\n",
    "            x_coord[j] = np.random.randint(0, 1000)\n",
    "            y_coord[j] = np.random.randint(0, 1000)\n",
    "\n",
    "            for i in range(aps):\n",
    "                distance[i] = dAPUE(x_coord[j], y_coord[j], ap_coord[i])\n",
    "                shadowing[j] = find_shadowing(sigma_shadowing)\n",
    "                fastfading[j] = find_fastfading(sigma_fastfading, ues, aps, channels)\n",
    "                # Definindo qual tipo de path gain eu irei trabalhar, sendo 0 referente somente a distância, 1 adicionando o shadowing e 2 adicionando o shasowing e o fastfading.\n",
    "                if pathgain_index == 0:\n",
    "                    pathgain[j] = find_path_gain_dist(distance[i])\n",
    "\n",
    "                elif pathgain_index == 1:\n",
    "                    pathgain[j] = find_path_gain_shadow(distance[i], shadowing[j])\n",
    "\n",
    "                elif pathgain_index == 2:\n",
    "                    pathgain[j] = find_path_gain_fastfading(distance[i], shadowing[j], fastfading[j])\n",
    "\n",
    "                pot_rec[j, i, c] = find_pot_rec(p_t, pathgain[j])\n",
    "        \n",
    "        for j in ues_on_channel:\n",
    "            interference = 0\n",
    "            for other_ue in ues_on_channel:\n",
    "                if other_ue != j:\n",
    "                    interference += np.sum(pot_rec[other_ue, :, c])\n",
    "\n",
    "            sinr[j] = np.sum(pot_rec[j, :, c]) / (pot_noise + interference)\n",
    "\n",
    "    return sinr\n",
    "\n",
    "\n",
    "\n",
    "\n"
   ]
  },
  {
   "cell_type": "code",
   "execution_count": 99,
   "metadata": {},
   "outputs": [],
   "source": [
    "def find_capacity(sinr, banda, K_0):\n",
    "    '''Função que calcula a capacidade de um dado canal.\n",
    "    \n",
    "    Parâmetros:\n",
    "    sinr (list): A relação sinal ruído mais interferência.\n",
    "    banda (int): A largura de banda do canal.\n",
    "    K_0 (int): Constante de Boltzmann.\n",
    "    \n",
    "    Retorna:\n",
    "    list: A capacidade do canal.'''\n",
    "    \n",
    "    capacity = banda * np.log2(1 + sinr)\n",
    "    \n",
    "    return capacity"
   ]
  },
  {
   "cell_type": "code",
   "execution_count": 100,
   "metadata": {},
   "outputs": [],
   "source": [
    "B_t, p_t, d_0, K_0 = 100e6, 1e-3, 1, 1e-17 # Em MHz, mW, metros, mW/Hz respectivamente\n",
    "aps, ues, channels = 64, 13, 2\n",
    "sigma_shadowing = 2\n",
    "sigma_fastfading = 1/np.sqrt(2)\n",
    "dist, shad, fastf = 0, 1, 2 # Distância, Shadowing, Fast Fading\n"
   ]
  },
  {
   "cell_type": "code",
   "execution_count": 101,
   "metadata": {},
   "outputs": [],
   "source": [
    "capacity_acum_dist = np.array([])\n",
    "capacity_acum_shad = np.array([])\n",
    "capacity_acum_fast = np.array([])\n",
    "\n",
    "for i in range (500):\n",
    "    sinr_dist = calculate_sinr(B_t, K_0, aps, ues, channels, sigma_shadowing, sigma_fastfading, p_t, dist)\n",
    "    capacity_dist = find_capacity(sinr_dist, B_t, K_0)\n",
    "    capacity_acum_dist = np.concatenate((capacity_acum_dist, capacity_dist))\n",
    "\n",
    "    sinr_shad = calculate_sinr(B_t, K_0, aps, ues, channels, sigma_shadowing, sigma_fastfading, p_t, shad)\n",
    "    capacity_shad = find_capacity(sinr_shad, B_t, K_0)\n",
    "    capacity_acum_shad = np.concatenate((capacity_acum_shad, capacity_shad))\n",
    "\n",
    "\n",
    "    sinr_fast = calculate_sinr(B_t, K_0, aps, ues, channels, sigma_shadowing, sigma_fastfading, p_t, fastf)\n",
    "    capacity_fast = find_capacity(sinr_fast, B_t, K_0)\n",
    "    capacity_acum_fast = np.concatenate((capacity_acum_fast, capacity_fast))\n",
    "\n",
    "\n",
    "\n"
   ]
  },
  {
   "cell_type": "code",
   "execution_count": 103,
   "metadata": {},
   "outputs": [
    {
     "data": {
      "image/png": "[encoded data removed]",
      "text/plain": [
       "<Figure size 640x480 with 1 Axes>"
      ]
     },
     "metadata": {},
     "output_type": "display_data"
    }
   ],
   "source": [
    "cdf_dist = np.sort(capacity_acum_dist)  \n",
    "cdf_shad = np.sort(capacity_acum_shad)\n",
    "cdf_fast = np.sort(capacity_acum_fast)\n",
    "\n",
    "# Plotando a CDF\n",
    "plt.figure()\n",
    "plt.plot(cdf_dist, np.linspace(0, 1, len(cdf_dist)), label='Path Loss')\n",
    "plt.plot(cdf_shad, np.linspace(0, 1, len(cdf_shad)), label='Shadowing')\n",
    "plt.plot(cdf_fast, np.linspace(0, 1, len(cdf_fast)), label='Fast Fading')\n",
    "plt.legend()\n",
    "plt.xlabel('Capacidade (bps/Hz)')\n",
    "plt.ylabel('Probabilidade')\n",
    "plt.title('CDF da Capacidade')\n",
    "plt.grid()\n",
    "\n",
    "plt.show()\n"
   ]
  }
 ],
 "metadata": {
  "kernelspec": {
   "display_name": "base",
   "language": "python",
   "name": "python3"
  },
  "language_info": {
   "codemirror_mode": {
    "name": "ipython",
    "version": 3
   },
   "file_extension": ".py",
   "mimetype": "text/x-python",
   "name": "python",
   "nbconvert_exporter": "python",
   "pygments_lexer": "ipython3",
   "version": "3.11.5"
  }
 },
 "nbformat": 4,
 "nbformat_minor": 2
}
