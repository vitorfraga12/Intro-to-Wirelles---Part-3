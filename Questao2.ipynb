{
 "cells": [
  {
   "cell_type": "code",
   "execution_count": 1,
   "metadata": {},
   "outputs": [],
   "source": [
    "import numpy as np\n",
    "import matplotlib.pyplot as plt\n",
    "np.random.seed(0)"
   ]
  },
  {
   "cell_type": "code",
   "execution_count": 3,
   "metadata": {},
   "outputs": [],
   "source": [
    "#Função que transforma Linear para dB\n",
    "def lin2db(x):\n",
    "    return 10 * np.log10(x)\n",
    "\n",
    "#Função que transforma dB para Linear\n",
    "def db2lin(x):\n",
    "    return 10 ** (x / 10)"
   ]
  },
  {
   "cell_type": "code",
   "execution_count": 2,
   "metadata": {},
   "outputs": [],
   "source": [
    "# Função que gera as coordenadas dos APs\n",
    "def distribuir_APs(num_aps):\n",
    "    '''Distributes Access Points (APs) evenly within a square area.\n",
    "    \n",
    "    Parameters:\n",
    "    num_aps (int): The number of APs to distribute. Must be a perfect square.\n",
    "    \n",
    "    Returns:\n",
    "    np.array: An array of coordinates for the APs, or None if num_aps is not a perfect square.'''\n",
    "    \n",
    "    if num_aps not in [1, 4, 9, 16, 25, 36, 49, 64, 100]:\n",
    "        return None\n",
    "\n",
    "    tamanho_quadrado = 400\n",
    "    lado_quadrado = int(np.sqrt(num_aps))\n",
    "\n",
    "    tamanho_celula = tamanho_quadrado // lado_quadrado\n",
    "\n",
    "    # Criar coordenadas usando meshgrid\n",
    "    x, y = np.meshgrid(np.arange(0.5 * tamanho_celula, tamanho_quadrado, tamanho_celula),\n",
    "                      np.arange(0.5 * tamanho_celula, tamanho_quadrado, tamanho_celula))\n",
    "\n",
    "    coordenadas_APs = np.column_stack((x.ravel(), y.ravel()))\n",
    "\n",
    "    return coordenadas_APs"
   ]
  },
  {
   "cell_type": "code",
   "execution_count": null,
   "metadata": {},
   "outputs": [],
   "source": [
    "# Função que gera a distância entre a UE e a AP\n",
    "def dAPUE(x_coord, y_coord, ap_coord):\n",
    "  '''Calculate the Euclidean distance between a user equipment (UE) and an access point (AP).\n",
    "    \n",
    "    Parameters:\n",
    "    ue_coords (tuple): A tuple (x_coord, y_coord) representing the coordinates of the UE.\n",
    "    ap_coords (np.array): An array containing the coordinates of the APs.\n",
    "    \n",
    "    Returns:\n",
    "    float: The Euclidean distance between the UE and the AP.\n",
    "  '''\n",
    "  dAPUE = np.linalg.norm(np.array([x_coord, y_coord]) - ap_coord)\n",
    "  return dAPUE"
   ]
  },
  {
   "cell_type": "code",
   "execution_count": null,
   "metadata": {},
   "outputs": [],
   "source": [
    "#Função que define o shadowing e muda ele a cada 10 passos\n",
    "def find_shadowing(ue):\n",
    "    '''Calculates the shadowing for a given user equipment (UE).\n",
    "\n",
    "    Parameters:\n",
    "    ue (int): The user equipment (UE) for which to calculate the shadowing.\n",
    "\n",
    "    Returns:\n",
    "    list: The shadowing value for the  each UE.\n",
    "    '''\n",
    "    shadowing = []\n",
    "    for i in range(ue):\n",
    "        shadowing.append(np.random.normal(0, 2))\n",
    "\n",
    "    return shadowing "
   ]
  },
  {
   "cell_type": "code",
   "execution_count": null,
   "metadata": {},
   "outputs": [],
   "source": [
    "# Função que calcula o path gain\n",
    "def find_path_gain(dist, shadowing):\n",
    "    ''' Calculate the path gain for a given distance and shadowing value.\n",
    "\n",
    "    Parameters:\n",
    "    distance (float): The distance from the transmitter to the receiver.\n",
    "    shadowing (float): The shadowing effect value, typically a multiplier derived from a log-normal distribution.\n",
    "\n",
    "    Returns:\n",
    "    float: The path gain calculated using the given distance and shadowing effects.'''\n",
    "    beta = (30.5 + 36.7*np.log10(dist/1)) # dB\n",
    "\n",
    "    path_gain = shadowing + beta # dB \n",
    "\n",
    "    path_gain_result = np.sqrt(db2lin(-path_gain)) # [LINEAR]\n",
    "\n",
    "    return path_gain_result # [LINEAR]"
   ]
  },
  {
   "cell_type": "code",
   "execution_count": null,
   "metadata": {},
   "outputs": [],
   "source": [
    "# Função que calcula a potência recebida\n",
    "def find_pot_rec(pot_trans, dist, d_0, shadowing):\n",
    "    ''''Calculate the received power from a transmitter to a receiver based on the distance, \n",
    "    transmission power, and shadowing effect.\n",
    "\n",
    "    Parameters:\n",
    "    pot_trans (float): The transmission power.\n",
    "    dist (float): The distance from the transmitter to the receiver.\n",
    "    d_0 (float): The threshold distance below which the power calculation does not occur.\n",
    "    shadowing (float): The shadowing effect, modifying the power based on environmental factors.\n",
    "\n",
    "    Returns:\n",
    "    float: The received power if distance is above the threshold; otherwise, returns zero.'''\n",
    "    \n",
    "    beta = (30.5 + 36.7*np.log10(dist/1)) # dB\n",
    "\n",
    "    if dist >= d_0:\n",
    "        path_gain = shadowing + beta\n",
    "        path_gain_result = np.sqrt(db2lin(-path_gain))\n",
    "        pot_rec_result = path_gain_result * pot_trans # Obtem a potência recebida de cada AP\n",
    "    else:\n",
    "        pot_rec_result = 0\n",
    "\n",
    "    return pot_rec_result # [LINEAR]"
   ]
  },
  {
   "cell_type": "code",
   "execution_count": null,
   "metadata": {},
   "outputs": [],
   "source": [
    "def calculate_sinr()"
   ]
  },
  {
   "cell_type": "code",
   "execution_count": null,
   "metadata": {},
   "outputs": [],
   "source": [
    "B_t, p_t, d_0, K_0 = 100e6, 1e-3, 1, 1e-17 # Em MHz, mW, metros, mW/Hz respectivamente\n",
    "ap, ue, channel = 64, 13, 2\n",
    "passos = 400000 # Definido já que a UE irá se mover a cada 10cm\n",
    "velocity = 0.01 # Velocidade de 10 m/s considerando que cada iteração é equivalente a 10ms\n",
    "shadow = find_shadowing(passos) # Definindo o shadowing que se altera para cada 10m\n",
    "x_coord, y_coord = ue_moviment(velocity, passos) # Movimentando a UE\n",
    "passos_array = np.arange(passos)"
   ]
  }
 ],
 "metadata": {
  "kernelspec": {
   "display_name": "base",
   "language": "python",
   "name": "python3"
  },
  "language_info": {
   "codemirror_mode": {
    "name": "ipython",
    "version": 3
   },
   "file_extension": ".py",
   "mimetype": "text/x-python",
   "name": "python",
   "nbconvert_exporter": "python",
   "pygments_lexer": "ipython3",
   "version": "3.11.5"
  }
 },
 "nbformat": 4,
 "nbformat_minor": 2
}
